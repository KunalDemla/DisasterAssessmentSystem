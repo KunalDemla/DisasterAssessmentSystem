{
 "cells": [
  {
   "cell_type": "code",
   "execution_count": 2,
   "metadata": {},
   "outputs": [
    {
     "name": "stdout",
     "output_type": "stream",
     "text": [
      "Cloning into 'jetcam'...\n",
      "remote: Enumerating objects: 191, done.\u001b[K\n",
      "remote: Total 191 (delta 0), reused 0 (delta 0), pack-reused 191\u001b[K\n",
      "Receiving objects: 100% (191/191), 41.34 KiB | 1.38 MiB/s, done.\n",
      "Resolving deltas: 100% (78/78), done.\n"
     ]
    }
   ],
   "source": [
    "!git clone https://github.com/NVIDIA-AI-IOT/jetcam"
   ]
  },
  {
   "cell_type": "code",
   "execution_count": 1,
   "metadata": {},
   "outputs": [
    {
     "name": "stdout",
     "output_type": "stream",
     "text": [
      "crw-rw---- 1 root video 81, 0 Apr 15 05:22 /dev/video0\n"
     ]
    }
   ],
   "source": [
    "\n",
    "!ls -ltrh /dev/video*"
   ]
  },
  {
   "cell_type": "code",
   "execution_count": 2,
   "metadata": {},
   "outputs": [
    {
     "name": "stdout",
     "output_type": "stream",
     "text": [
      "crw-rw---- 1 root video 81, 0 Apr 15 05:22 /dev/video0\n",
      "camera created\n"
     ]
    }
   ],
   "source": [
    "!ls -ltrh /dev/video*\n",
    "\n",
    "# USB Camera (Logitech C270 webcam)\n",
    "from jetcam.usb_camera import USBCamera\n",
    "camera = USBCamera(width=224, height=224, capture_device=0) # confirm the capture_device number\n",
    "\n",
    "# CSI Camera (Raspberry Pi Camera Module V2)\n",
    "# from jetcam.csi_camera import CSICamera\n",
    "# camera = CSICamera(width=224, height=224)\n",
    "\n",
    "camera.running = True\n",
    "print(\"camera created\")"
   ]
  },
  {
   "cell_type": "code",
   "execution_count": 3,
   "metadata": {},
   "outputs": [
    {
     "name": "stdout",
     "output_type": "stream",
     "text": [
      "Directories not created because they already exist\n"
     ]
    }
   ],
   "source": [
    "import os\n",
    "\n",
    "blocked_dir = 'dataset/saved'\n",
    "# free_dir = 'dataset/free'\n",
    "\n",
    "# we have this \"try/except\" statement because these next functions can throw an error if the directories exist already\n",
    "try:\n",
    "#     os.makedirs(free_dir)\n",
    "    os.makedirs(blocked_dir)\n",
    "except FileExistsError:\n",
    "    print('Directories not created because they already exist')"
   ]
  },
  {
   "cell_type": "code",
   "execution_count": 4,
   "metadata": {},
   "outputs": [
    {
     "data": {
      "application/vnd.jupyter.widget-view+json": {
       "model_id": "d1ad0b4133b44cbb868575cf2c2665f3",
       "version_major": 2,
       "version_minor": 0
      },
      "text/plain": [
       "HBox(children=(IntText(value=8, layout=Layout(height='64px', width='128px')), Button(button_style='danger', de…"
      ]
     },
     "metadata": {},
     "output_type": "display_data"
    }
   ],
   "source": [
    "import traitlets\n",
    "import ipywidgets.widgets as widgets\n",
    "from IPython.display import display\n",
    "button_layout = widgets.Layout(width='128px', height='64px')\n",
    "# free_button = widgets.Button(description='save', button_style='success', layout=button_layout)\n",
    "blocked_button = widgets.Button(description='save', button_style='danger', layout=button_layout)\n",
    "# free_count = widgets.IntText(layout=button_layout, value=len(os.listdir(free_dir)))\n",
    "blocked_count = widgets.IntText(layout=button_layout, value=len(os.listdir(blocked_dir)))\n",
    "\n",
    "# display(widgets.HBox([free_count, free_button]))\n",
    "display(widgets.HBox([blocked_count, blocked_button]))"
   ]
  },
  {
   "cell_type": "code",
   "execution_count": 5,
   "metadata": {},
   "outputs": [],
   "source": [
    "import numpy as  np\n",
    "# import numpy as np\n",
    "from PIL import Image\n",
    "def rotate(front,back,top,bottom,left,right,itr,i,c):\n",
    "    \n",
    "    sz=front.shape[0]\n",
    "    \n",
    "    if itr == 1:\n",
    "        front,back,top,bottom,left,right = right,left,np.rot90(top,3),np.rot90(bottom,1),front,back\n",
    "    elif itr == 2 :\n",
    "        front,back,top,bottom,left,right = top,np.rot90(bottom,2),np.rot90(back,2),front,np.rot90(left,3),np.rot90(right,1)\n",
    "\n",
    "\n",
    "    if c == 0:\n",
    "        temp = np.copy(front[i])\n",
    "        front[i]= right[i]\n",
    "        right[i]=back[i]\n",
    "        back[i]=left[i]\n",
    "        left[i]=temp\n",
    "        if i == 0:\n",
    "            top = np.rot90(top,3)\n",
    "        elif i == sz-1:\n",
    "            bottom = np.rot90(bottom,1)\n",
    "    elif c == 1:\n",
    "        temp = np.copy(front[i])\n",
    "        front[i]= left[i]\n",
    "        left[i]=back[i]\n",
    "        back[i]=right[i]\n",
    "        right[i]=temp\n",
    "        if i == 0:\n",
    "            top = np.rot90(top,1)\n",
    "        elif i == sz-1:\n",
    "            bottom = np.rot90(bottom,3)\n",
    "    elif c == 2:\n",
    "        temp = np.copy(front[:,i])\n",
    "        front[:,i]= bottom[:,i]\n",
    "        bottom[:,i]=np.flip(back[:,sz-i-1])\n",
    "        back[:,sz-i-1]=np.flip(top[:,i])\n",
    "        top[:,i]=temp\n",
    "        if i == 0:\n",
    "            left = np.rot90(left,1)\n",
    "        elif i == sz-1:\n",
    "            right = np.rot90(right,3)\n",
    "    else:\n",
    "        temp = np.copy(front[:,i])\n",
    "        front[:,i]= top[:,i]\n",
    "        top[:,i]=np.flip(back[:,sz-i-1])\n",
    "        back[:,sz-i-1]=np.flip(bottom[:,i])\n",
    "        bottom[:,i]=temp\n",
    "        if i == 0:\n",
    "            left = np.rot90(left,3)\n",
    "        elif i == sz-1:\n",
    "            right = np.rot90(right,1)\n",
    "\n",
    "    if itr == 1:\n",
    "        temp  = np.copy(front)\n",
    "        front = left\n",
    "        left = back\n",
    "        back = right\n",
    "        top = np.rot90(top,1)\n",
    "        bottom = np.rot90(bottom,3)\n",
    "        right = temp\n",
    "    elif itr == 2:\n",
    "        temp = np.copy(front)\n",
    "        front = bottom\n",
    "        bottom = np.rot90(back,2)\n",
    "        back = np.rot90(top,2)\n",
    "        top = temp\n",
    "        left = np.rot90(left,1)\n",
    "        right = np.rot90(right,3)\n",
    "\n",
    "    return front,back,top,bottom,left,right\n",
    "\n",
    "def logistic_key(x, r, size):\n",
    "    key = []\n",
    "    for i in range(size):   \n",
    "        x = r*x*(1-x)   # The logistic equation\n",
    "        key.append(int((x*pow(10, 16))%256))    # Converting the generated number between 0 to 255\n",
    "    return key\n",
    "\n",
    "\n",
    "\n"
   ]
  },
  {
   "cell_type": "code",
   "execution_count": 6,
   "metadata": {},
   "outputs": [],
   "source": [
    "from uuid import uuid1\n",
    "\n",
    "def save_snapshot(directory):\n",
    "    image_path = os.path.join(directory, str(uuid1()) + '.jpg')\n",
    "    with open(image_path, 'wb') as f:\n",
    "        f.write(image.value)\n",
    "\n",
    "# def save_free():\n",
    "#     global free_dir, free_count\n",
    "#     save_snapshot(free_dir)\n",
    "#     free_count.value = len(os.listdir(free_dir))\n",
    "    \n",
    "def save_blocked():\n",
    "    global blocked_dir, blocked_count\n",
    "    save_snapshot(blocked_dir)\n",
    "    blocked_count.value = len(os.listdir(blocked_dir))\n",
    "    encrypt()\n",
    "    \n",
    "# attach the callbacks, we use a 'lambda' function to ignore the\n",
    "# parameter that the on_click event would provide to our function\n",
    "# because we don't need it.\n",
    "# free_button.on_click(lambda x: save_free())\n",
    "blocked_button.on_click(lambda x: save_blocked())"
   ]
  },
  {
   "cell_type": "code",
   "execution_count": 7,
   "metadata": {},
   "outputs": [],
   "source": [
    "import os\n",
    "def encrypt(path = r\"dataset/saved/\",savepath = r\"dataset/encrypted/\"):\n",
    "    for filename in os.listdir(path):\n",
    "        ext = os.path.splitext(filename)[-1].lower()\n",
    "        allowed = ['.jpg','.png','jpeg']\n",
    "        if ext not in allowed:\n",
    "            continue\n",
    "        img = Image.open(f'{path}{filename}')\n",
    "        img = np.array(img)\n",
    "\n",
    "        finalencimage  = np.copy(img)\n",
    "        shrya = np.copy(img)\n",
    "        for ii in range(3): \n",
    "            img  = np.copy(shrya[:,:,ii])\n",
    "\n",
    "            front = np.zeros(img.shape)\n",
    "            back = np.zeros(img.shape)\n",
    "            top = np.zeros(img.shape)\n",
    "            bottom = np.zeros(img.shape)\n",
    "            left = np.zeros(img.shape)\n",
    "            right = np.zeros(img.shape)\n",
    "\n",
    "            for i in range(img.shape[0]):\n",
    "                for j in range(img.shape[1]):\n",
    "                    pix = [int(k) for k in list('{0:08b}'.format(img[i,j]))]\n",
    "                    front[i][j] = pix[0]\n",
    "                    back[i][j]=pix[1]\n",
    "                    top[i][j]=pix[2]\n",
    "                    bottom[i][j]=pix[3]\n",
    "                    left[i][j]=pix[4]\n",
    "                    right[i][j]=pix[5]\n",
    "\n",
    "            imgn = np.copy(img)\n",
    "\n",
    "            key = logistic_key(0.01, 3.85, img.shape[0]*img.shape[1])\n",
    "\n",
    "            k=0\n",
    "\n",
    "            for i in range(3):\n",
    "                for j in range(front.shape[0]):\n",
    "                    front,back,top,bottom,left,right = rotate(front,back,top,bottom,left,right,i,j,key[k]%4)\n",
    "                    k+=1\n",
    "\n",
    "            ke=0\n",
    "            for i in range(img.shape[0]):\n",
    "                for j in range(img.shape[1]):\n",
    "                    imgn[i][j] = 0\n",
    "                    pix = [int(k) for k in list('{0:08b}'.format(img[i,j]))]\n",
    "                    imgn[i][j] += (np.uint64(front[i][j])<<np.uint64(7))\n",
    "                    imgn[i][j] += (np.uint64(back[i][j])<<np.uint64(6))\n",
    "                    imgn[i][j] += (np.uint64(top[i][j])<<np.uint64(5))\n",
    "                    imgn[i][j] += (np.uint64(bottom[i][j])<<np.uint64(4))\n",
    "                    imgn[i][j] += (np.uint64(left[i][j])<<np.uint64(3))\n",
    "                    imgn[i][j] += (np.uint64(right[i][j])<<np.uint64(2))\n",
    "                    imgn[i][j] += (pix[6]<<1)\n",
    "                    imgn[i][j] += (pix[7])\n",
    "                    imgn[i][j] ^= key[ke]\n",
    "                    ke+=1\n",
    "\n",
    "            for x in range(img.shape[0]):\n",
    "                for y in range(img.shape[1]):\n",
    "                    finalencimage[x][y][ii] = imgn[x][y]\n",
    "\n",
    "        finalencimage = Image.fromarray(finalencimage)\n",
    "        finalencimage.save(f'{savepath}{filename}')\n",
    "        os.remove(f'{path}{filename}')"
   ]
  },
  {
   "cell_type": "code",
   "execution_count": 8,
   "metadata": {},
   "outputs": [
    {
     "name": "stdout",
     "output_type": "stream",
     "text": [
      "Error loading module `ublox_gps`: No module named 'serial'\n"
     ]
    },
    {
     "data": {
      "application/vnd.jupyter.widget-view+json": {
       "model_id": "6074b26b689d4b50bf5af7f50fe0df87",
       "version_major": 2,
       "version_minor": 0
      },
      "text/plain": [
       "Image(value=b'\\xff\\xd8\\xff\\xe0\\x00\\x10JFIF\\x00\\x01\\x01\\x00\\x00\\x01\\x00\\x01\\x00\\x00\\xff\\xdb\\x00C\\x00\\x02\\x01\\x0…"
      ]
     },
     "metadata": {},
     "output_type": "display_data"
    },
    {
     "data": {
      "application/vnd.jupyter.widget-view+json": {
       "model_id": "29866a8006e34c949bf153f88ecc48b0",
       "version_major": 2,
       "version_minor": 0
      },
      "text/plain": [
       "HBox(children=(IntText(value=8, layout=Layout(height='64px', width='128px')), Button(button_style='danger', de…"
      ]
     },
     "metadata": {},
     "output_type": "display_data"
    }
   ],
   "source": [
    "from jetbot import bgr8_to_jpeg\n",
    "image = widgets.Image(format='jpeg', width=224, height=224)  # this width and height doesn't necessarily have to match the camera\n",
    "\n",
    "camera_link = traitlets.dlink((camera, 'value'), (image, 'value'), transform=bgr8_to_jpeg)\n",
    "display(image)\n",
    "# display(widgets.HBox([free_count, free_button]))\n",
    "display(widgets.HBox([blocked_count, blocked_button]))"
   ]
  }
 ],
 "metadata": {
  "kernelspec": {
   "display_name": "Python 3",
   "language": "python",
   "name": "python3"
  },
  "language_info": {
   "codemirror_mode": {
    "name": "ipython",
    "version": 3
   },
   "file_extension": ".py",
   "mimetype": "text/x-python",
   "name": "python",
   "nbconvert_exporter": "python",
   "pygments_lexer": "ipython3",
   "version": "3.6.9"
  }
 },
 "nbformat": 4,
 "nbformat_minor": 4
}
